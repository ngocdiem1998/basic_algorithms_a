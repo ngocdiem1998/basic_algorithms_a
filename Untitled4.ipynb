{
  "nbformat": 4,
  "nbformat_minor": 0,
  "metadata": {
    "colab": {
      "name": "Untitled4.ipynb",
      "provenance": [],
      "collapsed_sections": [],
      "authorship_tag": "ABX9TyOSR4aHzTRfpemSfLoZ7uc5",
      "include_colab_link": true
    },
    "kernelspec": {
      "name": "python3",
      "display_name": "Python 3"
    }
  },
  "cells": [
    {
      "cell_type": "markdown",
      "metadata": {
        "id": "view-in-github",
        "colab_type": "text"
      },
      "source": [
        "<a href=\"https://colab.research.google.com/github/ngocdiem1998/basic_algorithms_a/blob/master/Untitled4.ipynb\" target=\"_parent\"><img src=\"https://colab.research.google.com/assets/colab-badge.svg\" alt=\"Open In Colab\"/></a>"
      ]
    },
    {
      "cell_type": "code",
      "metadata": {
        "id": "E8pCMriJlfvZ",
        "colab_type": "code",
        "outputId": "fdff349f-f12a-41ee-9e8b-b7acaa5a0b23",
        "colab": {
          "base_uri": "https://localhost:8080/",
          "height": 575
        }
      },
      "source": [
        "import random\n",
        "answerlist= [\"hello\",\"xinchao\",\"konnichiha\"]\n",
        "random.shuffle(answerlist)\n",
        "answer = list(answerlist[0]) #answer = h,e,l,l,o\n",
        "#print(ansewr)\n",
        "display = []\n",
        "\n",
        "used=[]\n",
        "\n",
        "for i in range (len(answer)):\n",
        "  display.append(\"_ \")\n",
        "print (\"\".join(display))\n",
        "print()\n",
        "count=0\n",
        "incorrect = 5\n",
        "print(\"挨拶する時にどんな言葉を使いますか。(ロマジを書いてください。)\")\n",
        "print(\"字が一つ一つを入力してください。\")\n",
        "\n",
        "while count < len(answer) and incorrect > 0 :\n",
        "  guess = input(\"入力してください: \")\n",
        "  guess = guess.lower()\n",
        "  \n",
        "  for i in range(len(answer)):\n",
        "    #in the answer\n",
        "    if answer[i] == guess :\n",
        "     display[i] = guess\n",
        "     count = count + 1\n",
        "     print(count)\n",
        "     print(\"\".join(display))\n",
        "  if guess not in display:\n",
        "    incorrect = incorrect - 1\n",
        "    print(\"すみません、間違った推測 \")\n",
        "    print(\"あなたには\",incorrect,\"のチャンスがあります。\")\n",
        "    print(\"あなたは\",count,\"の正しい手紙を推測しました。\")\n",
        "    print(\"\".join(display))\n",
        "    print()\n",
        "\n",
        "if count == len(answer):\n",
        "  print(\"よくやった、あなたは言葉推測した。\")\n",
        "else:\n",
        "  print(\"残念ながら、あなたは行きを使い果たしました。\")  "
      ],
      "execution_count": 0,
      "outputs": [
        {
          "output_type": "stream",
          "text": [
            "_ _ _ _ _ \n",
            "\n",
            "挨拶する時にどんな言葉を使いますか。(ロマジを書いてください。)\n",
            "字が一つ一つを入力してください。\n",
            "入力してください: w\n",
            "すみません、間違った推測 \n",
            "あなたには 4 のチャンスがあります。\n",
            "あなたは 0 の正しい手紙を推測しました。\n",
            "_ _ _ _ _ \n",
            "\n",
            "入力してください: h\n",
            "1\n",
            "h_ _ _ _ \n",
            "入力してください: e\n",
            "2\n",
            "he_ _ _ \n",
            "入力してください: g\n",
            "すみません、間違った推測 \n",
            "あなたには 3 のチャンスがあります。\n",
            "あなたは 2 の正しい手紙を推測しました。\n",
            "he_ _ _ \n",
            "\n",
            "入力してください: l\n",
            "3\n",
            "hel_ _ \n",
            "4\n",
            "hell_ \n",
            "入力してください: o\n",
            "5\n",
            "hello\n",
            "よくやった、あなたは言葉推測した。\n"
          ],
          "name": "stdout"
        }
      ]
    }
  ]
}